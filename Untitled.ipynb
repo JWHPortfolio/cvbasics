{
 "cells": [
  {
   "cell_type": "code",
   "execution_count": null,
   "id": "5b9c9c3e",
   "metadata": {},
   "outputs": [],
   "source": [
    "img = cv.cvtColor(img, cv.COLOR_BGR2GRAY)"
   ]
  },
  {
   "cell_type": "code",
   "execution_count": null,
   "id": "fb13d556",
   "metadata": {},
   "outputs": [],
   "source": [
    "3 dimensions with greyscale\n",
    "\n",
    "# we start with the same float image (img) as before\n",
    "\n",
    "# converting to uint8. Still one channel\n",
    "img = ((img / np.max(img)) * 255).astype('uint8')\n",
    "\n",
    "print(img.shape, type(img), img.dtype)\n",
    "(48, 118) <class 'numpy.ndarray'> uint8\n",
    "\n",
    "# replicating the only channel 3 times. There are other ways to do this:\n",
    "img_rgb = np.zeros((img.shape[0], img.shape[1], 3), dtype=np.uint8)\n",
    "img_rgb[:,:,0], img_rgb[:,:,1], img_rgb[:,:,2] = img, img, img\n",
    "\n",
    "# now you'll see a thrid dimension in the shape\n",
    "print(img_rgb.shape, type(img_rgb), img_rgb.dtype)\n",
    "(48, 118, 3) <class 'numpy.ndarray'> uint8\n",
    "\n",
    "# applying the blobFromImage function\n",
    "inpBlob = cv2.dnn.blobFromImage(img_rgb, \n",
    "                                size=(368,368), \n",
    "                                mean=(0,0,0), \n",
    "                                swapRB=False, \n",
    "                                crop=False)\n",
    "\n",
    "# checking...\n",
    "print(inpBlob.shape, type(inpBlob), inpBlob.dtype)\n",
    "(1, 3, 368, 368) <class 'numpy.ndarray'> float32\n",
    "# the 3 channels are reflected in the second component of inpBlop's shape."
   ]
  }
 ],
 "metadata": {
  "kernelspec": {
   "display_name": "Python 3 (ipykernel)",
   "language": "python",
   "name": "python3"
  },
  "language_info": {
   "codemirror_mode": {
    "name": "ipython",
    "version": 3
   },
   "file_extension": ".py",
   "mimetype": "text/x-python",
   "name": "python",
   "nbconvert_exporter": "python",
   "pygments_lexer": "ipython3",
   "version": "3.10.6"
  }
 },
 "nbformat": 4,
 "nbformat_minor": 5
}
